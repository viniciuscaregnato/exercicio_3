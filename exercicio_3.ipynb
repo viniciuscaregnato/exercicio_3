{
 "cells": [
  {
   "cell_type": "code",
   "execution_count": 3,
   "id": "7b9e7300-07f0-4d1f-8b91-f8dbc2b51709",
   "metadata": {},
   "outputs": [
    {
     "data": {
      "text/plain": [
       "'exercicio 3\\nautor: vinicius\\nversão: 0.0.1'"
      ]
     },
     "execution_count": 3,
     "metadata": {},
     "output_type": "execute_result"
    }
   ],
   "source": [
    "\"\"\"exercicio 3\n",
    "autor: vinicius\n",
    "versão: 0.0.1\"\"\""
   ]
  },
  {
   "cell_type": "code",
   "execution_count": 7,
   "id": "088c791a-bf92-4fc0-9b03-37140e004d29",
   "metadata": {},
   "outputs": [],
   "source": [
    "# Alocação de memoria\n",
    "\n",
    "numero_1 = \"\"\n",
    "numero_2 = \"\""
   ]
  },
  {
   "cell_type": "code",
   "execution_count": 15,
   "id": "1e342952-e82d-404f-80cf-9a224d817ef0",
   "metadata": {},
   "outputs": [
    {
     "name": "stdin",
     "output_type": "stream",
     "text": [
      "digite um numero:  2\n",
      "digite outro numero:  3\n"
     ]
    }
   ],
   "source": [
    "# Entrada de dados\n",
    "\n",
    "numero_1 = int(input(\"digite um numero: \"))\n",
    "numero_2 = int(input(\"digite outro numero: \"))\n"
   ]
  },
  {
   "cell_type": "code",
   "execution_count": 17,
   "id": "0f846643-db79-4bf2-bb61-a9d8adcadd00",
   "metadata": {},
   "outputs": [],
   "source": [
    "# Processamento de dados\n",
    "\n",
    "resultado = numero_1 + numero_2\n"
   ]
  },
  {
   "cell_type": "code",
   "execution_count": 19,
   "id": "1d9029ac-2ecf-4345-893f-3b592541db9f",
   "metadata": {},
   "outputs": [
    {
     "name": "stdout",
     "output_type": "stream",
     "text": [
      "5\n"
     ]
    }
   ],
   "source": [
    "#Saída de dados\n",
    "print(resultado)"
   ]
  }
 ],
 "metadata": {
  "kernelspec": {
   "display_name": "Python [conda env:base] *",
   "language": "python",
   "name": "conda-base-py"
  },
  "language_info": {
   "codemirror_mode": {
    "name": "ipython",
    "version": 3
   },
   "file_extension": ".py",
   "mimetype": "text/x-python",
   "name": "python",
   "nbconvert_exporter": "python",
   "pygments_lexer": "ipython3",
   "version": "3.12.7"
  }
 },
 "nbformat": 4,
 "nbformat_minor": 5
}
